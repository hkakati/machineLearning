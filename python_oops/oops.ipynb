{
 "cells": [
  {
   "cell_type": "code",
   "execution_count": 13,
   "id": "d253a201",
   "metadata": {},
   "outputs": [
    {
     "name": "stdout",
     "output_type": "stream",
     "text": [
      "Lucy is 4 years old\n",
      "Joe is 3 years old\n"
     ]
    }
   ],
   "source": [
    "class Dog:\n",
    "    def __init__(self,name,age):\n",
    "        self.name=name\n",
    "        self.age= age\n",
    "\n",
    "dog1=Dog(\"Lucy\", 4)\n",
    "dog2=Dog(\"Joe\", 3)\n",
    "\n",
    "print(f\"{dog1.name} is {dog1.age} years old\")\n",
    "print(f\"{dog2.name} is {dog2.age} years old\")\n"
   ]
  },
  {
   "cell_type": "code",
   "execution_count": null,
   "id": "8f963cc9",
   "metadata": {},
   "outputs": [],
   "source": []
  },
  {
   "cell_type": "code",
   "execution_count": 14,
   "id": "9f2f2818",
   "metadata": {},
   "outputs": [],
   "source": [
    "### Modeling a Bank Account\n",
    "class BankAccount:\n",
    "    def __init__(self, owner,balance=0):\n",
    "        self.owner=owner\n",
    "        self.balance= balance\n",
    "    def deposit(self, amount):\n",
    "        self.balance+=amount\n",
    "        print(f\"{amount} is deposited. New balance is {self.balance}\")\n",
    "\n",
    "    def withdraw(self, amount):\n",
    "        if amount>self.balance:\n",
    "            print(\"Insufficient funds!\")\n",
    "        else:\n",
    "            self.balance-=amount\n",
    "            print(f\"{amount} is withdrawn. New Balance is {self.balance}\")\n",
    "\n",
    "    def get_balance(self):\n",
    "        return self.balance\n",
    "    \n",
    "    ##create an account\n",
    "account= BankAccount(\"Bob\", 5000)\n",
    " \n",
    "\n",
    "\n",
    "\n",
    "\n",
    "\n",
    "\n"
   ]
  },
  {
   "cell_type": "code",
   "execution_count": 15,
   "id": "113247da",
   "metadata": {},
   "outputs": [
    {
     "name": "stdout",
     "output_type": "stream",
     "text": [
      "Car engine started\n"
     ]
    }
   ],
   "source": [
    "#Abstract base class\n",
    "\n",
    "from abc import ABC, abstractmethod\n",
    "class Vehicle(ABC):\n",
    "    def drive(self):\n",
    "        print(\"The vehicle is used for driving\")\n",
    "\n",
    "    @abstractmethod\n",
    "    def start_engine(self):\n",
    "        pass\n",
    "class Car(Vehicle):\n",
    "    def start_engine(self):\n",
    "        print(\"Car engine started\")\n",
    "def operate_vehicle(vehicle):\n",
    "    vehicle.start_engine()\n",
    "\n",
    "car = Car()\n",
    "operate_vehicle(car)"
   ]
  },
  {
   "cell_type": "code",
   "execution_count": 16,
   "id": "1e3ca9a7",
   "metadata": {},
   "outputs": [
    {
     "name": "stdout",
     "output_type": "stream",
     "text": [
      "Krish,34 years old\n"
     ]
    }
   ],
   "source": [
    "#Magic Methods\n",
    "\n",
    "class Person:\n",
    "    def __init__(self,name,age):\n",
    "        self.name=name\n",
    "        self.age=age\n",
    "\n",
    "    def __str__(self):\n",
    "        return f\"{self.name},{self.age} years old\"\n",
    "    \n",
    "person=Person(\"Krish\", 34)\n",
    "print(person)\n",
    "\n",
    "\n",
    "\n",
    "\n",
    "\n",
    "    \n"
   ]
  },
  {
   "cell_type": "code",
   "execution_count": 20,
   "id": "9c2095ee",
   "metadata": {},
   "outputs": [
    {
     "name": "stdout",
     "output_type": "stream",
     "text": [
      "3+4i 7+8i\n",
      "10+12i\n",
      "False\n"
     ]
    }
   ],
   "source": [
    "class Complex:\n",
    "    def __init__(self, real, imag):\n",
    "        self.real=real\n",
    "        self.imag=imag\n",
    "    def __str__(self):\n",
    "        return f\"{self.real}+{self.imag}i\"\n",
    "    def __add__(self,other):\n",
    "        return Complex(self.real+other.real, self.imag+other.imag)\n",
    "    def __sub__(self,other):\n",
    "        return Complex(self.real-other.real, self.imag-other.imag)\n",
    "    def __eq__(self, other):\n",
    "        if(self.real==other.real and self.imag==other.imag):\n",
    "            return True\n",
    "        else:\n",
    "            return False\n",
    "        \n",
    "    \n",
    "num1=Complex(3,4)\n",
    "num2=Complex(7,8)\n",
    "print(num1, num2)\n",
    "print(num1+num2)\n",
    "print(num1==num2)\n",
    "    \n"
   ]
  },
  {
   "cell_type": "code",
   "execution_count": null,
   "id": "8445b704",
   "metadata": {},
   "outputs": [],
   "source": [
    "#Exception Handling\n",
    "\n"
   ]
  }
 ],
 "metadata": {
  "kernelspec": {
   "display_name": "Python 3",
   "language": "python",
   "name": "python3"
  },
  "language_info": {
   "codemirror_mode": {
    "name": "ipython",
    "version": 3
   },
   "file_extension": ".py",
   "mimetype": "text/x-python",
   "name": "python",
   "nbconvert_exporter": "python",
   "pygments_lexer": "ipython3",
   "version": "3.10.0"
  }
 },
 "nbformat": 4,
 "nbformat_minor": 5
}
